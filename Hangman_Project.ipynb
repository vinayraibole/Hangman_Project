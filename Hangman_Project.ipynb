{
  "nbformat": 4,
  "nbformat_minor": 0,
  "metadata": {
    "colab": {
      "provenance": [],
      "collapsed_sections": []
    },
    "kernelspec": {
      "name": "python3",
      "display_name": "Python 3"
    },
    "language_info": {
      "name": "python"
    }
  },
  "cells": [
    {
      "cell_type": "code",
      "execution_count": 5,
      "metadata": {
        "id": "pu-Zb-L9d70z"
      },
      "outputs": [],
      "source": [
        "# Importing the random and time libraries"
      ]
    },
    {
      "cell_type": "code",
      "source": [
        "import random\n",
        "import time"
      ],
      "metadata": {
        "id": "sYWOS8SbeSjm"
      },
      "execution_count": 2,
      "outputs": []
    },
    {
      "cell_type": "code",
      "source": [
        "def main():\n",
        "  global count, display, word, already_guessed, length, play_game\n",
        "  words_to_guess = ['laptop','apple','anime','gift','keyboard','punch']\n",
        "  word = random.choice(words_to_guess)\n",
        "  length = len(word)\n",
        "  count = 0\n",
        "  display = '_' * length\n",
        "  already_guessed = []\n",
        "  play_game = \"\""
      ],
      "metadata": {
        "id": "FLH4RKoEe7PR"
      },
      "execution_count": 8,
      "outputs": []
    },
    {
      "cell_type": "code",
      "source": [
        "# Initializing all the conditions required for the game:\n",
        "def hangman():\n",
        "  global count, display, word, already_guessed, play_game\n",
        "  limit = 5\n",
        "  guess = input('\\nThis is the Hangman Word: ' + display + ' Enter your guess: \\n')\n",
        "  guess = guess.strip().lower()\n",
        "  if len(guess)==0 or len(guess) >= 2:\n",
        "    print('Invalid Input, Try a letter\\n')\n",
        "    hangman()\n",
        "  elif guess in word:\n",
        "    already_guessed.extend([guess])\n",
        "    index = word.find(guess)\n",
        "    word = word[:index] + '_' + word[index + 1:]\n",
        "    display = display[:index] + guess + display[index + 1:]\n",
        "    print(display + '\\n')\n",
        "  elif guess in already_guessed:\n",
        "    print('Try another letter.\\n')\n",
        "  else:\n",
        "    count+=1\n",
        "    if count == 1:\n",
        "      time.sleep(1)\n",
        "      print('  _____\\n'\n",
        "            ' |     \\n'\n",
        "            ' |     \\n'\n",
        "            ' |     \\n'\n",
        "            ' |     \\n'\n",
        "            ' |     \\n'\n",
        "            ' |     \\n'\n",
        "            '_|___  \\n')\n",
        "      print('Wrong guess. ' + str(limit-count) + ' guesses remaining\\n')\n",
        "    elif count == 2:\n",
        "      time.sleep(1)\n",
        "      print('  _____\\n'\n",
        "            ' |     |\\n'\n",
        "            ' |     |\\n'\n",
        "            ' |     \\n'\n",
        "            ' |     \\n'\n",
        "            ' |     \\n'\n",
        "            ' |     \\n'\n",
        "            '_|___  \\n')\n",
        "      print('Wrong guess. ' + str(limit-count) + ' guesses remaining\\n')\n",
        "    elif count == 3:\n",
        "      time.sleep(1)\n",
        "      print('  _____\\n'\n",
        "            ' |     |\\n'\n",
        "            ' |     |\\n'\n",
        "            ' |     |\\n'\n",
        "            ' |     \\n'\n",
        "            ' |     \\n'\n",
        "            ' |     \\n'\n",
        "            '_|___  \\n')\n",
        "      print('Wrong guess. ' + str(limit-count) + ' guesses remaining\\n')\n",
        "    elif count == 4:\n",
        "      time.sleep(1)\n",
        "      print('  _____\\n'\n",
        "            ' |     |\\n'\n",
        "            ' |     |\\n'\n",
        "            ' |     |\\n'\n",
        "            ' |     O\\n'\n",
        "            ' |     \\n'\n",
        "            ' |     \\n'\n",
        "            '_|___  \\n')\n",
        "      print('Wrong guess. ' + str(limit-count) + ' guesses remaining\\n')\n",
        "    elif count == 5:\n",
        "      time.sleep(1)\n",
        "      print('  _____\\n'\n",
        "            ' |     |\\n'\n",
        "            ' |     |\\n'\n",
        "            ' |     |\\n'\n",
        "            ' |     O\\n'\n",
        "            ' |    /|\\ \\n'\n",
        "            ' |    / \\ \\n'\n",
        "            '_|___  \\n')\n",
        "      print('Wrong guess. You are hanged!!!\\n')\n",
        "      print('The word was: ', already_guessed, word)\n",
        "      play_loop()\n",
        "\n",
        "  if word == '_' * length:\n",
        "      print('Congrats! You have guessed the word correctly!')\n",
        "      play_loop()\n",
        "\n",
        "  elif count != limit:\n",
        "      hangman()"
      ],
      "metadata": {
        "id": "4GasojImq8Dq"
      },
      "execution_count": 61,
      "outputs": []
    },
    {
      "cell_type": "code",
      "source": [
        "# A loop to re-execute the game when the first round ends\n",
        "def play_loop():\n",
        "  global play_game\n",
        "  play_game = input(\"\\n Do you want to play again? (y = yes, n = no)\\n\")\n",
        "  while play_game not in ['y','n','Y','N']:\n",
        "    play_game = input(\"\\n Do you want to play again? (y = yes, n = no)\\n\")\n",
        "    if play_game.lower() == 'y':\n",
        "      main()\n",
        "      hangman()\n",
        "    elif play_game.lower() == 'n':\n",
        "      print(\"\\nThanks for playing! We expect you back again!\")\n",
        "      exit()"
      ],
      "metadata": {
        "id": "OrRo3wrzgUrI"
      },
      "execution_count": 60,
      "outputs": []
    },
    {
      "cell_type": "code",
      "source": [
        "# Initial steps to invite in the game\n",
        "def new_game():\n",
        "  print(\"Welcome to the Hangman game by Vinay Raibole!\")\n",
        "  name = input(\"\\nEnter your name: \")\n",
        "  print(\"Hello \"+ name + \"! Best of Luck!\")\n",
        "  time.sleep(2)\n",
        "  print(\"The game is about to start! \\nLets's Play Hangman!\")\n",
        "  time.sleep(3)\n",
        "  main()\n",
        "  hangman()"
      ],
      "metadata": {
        "id": "pZtJHdaYp3pE"
      },
      "execution_count": 63,
      "outputs": []
    },
    {
      "cell_type": "code",
      "source": [
        "new_game()"
      ],
      "metadata": {
        "colab": {
          "base_uri": "https://localhost:8080/"
        },
        "id": "wgp6JTSwptMl",
        "outputId": "40993a1c-6eb7-46ed-b85b-9134862352c9"
      },
      "execution_count": 62,
      "outputs": [
        {
          "name": "stdout",
          "output_type": "stream",
          "text": [
            "Welcome to the Hangman game by Vinay Raibole!\n",
            "\n",
            "Enter your name: Vin\n",
            "Hello Vin! Best of Luck!\n",
            "The game is about to start! \n",
            "Lets's Play Hangman!\n",
            "\n",
            "This is the Hangman Word: ________ Enter your guess: \n",
            "s\n",
            "  _____\n",
            " |     \n",
            " |     \n",
            " |     \n",
            " |     \n",
            " |     \n",
            " |     \n",
            "_|___  \n",
            "\n",
            "Wrong guess. 4 guesses remaining\n",
            "\n",
            "\n",
            "This is the Hangman Word: ________ Enter your guess: \n",
            "a\n",
            "_____a__\n",
            "\n",
            "\n",
            "This is the Hangman Word: _____a__ Enter your guess: \n",
            "r\n",
            "_____ar_\n",
            "\n",
            "\n",
            "This is the Hangman Word: _____ar_ Enter your guess: \n",
            "d\n",
            "_____ard\n",
            "\n",
            "\n",
            "This is the Hangman Word: _____ard Enter your guess: \n",
            "ke\n",
            "Invalid Input, Try a letter\n",
            "\n",
            "\n",
            "This is the Hangman Word: _____ard Enter your guess: \n",
            "k\n",
            "k____ard\n",
            "\n",
            "\n",
            "This is the Hangman Word: k____ard Enter your guess: \n",
            "y\n",
            "k_y__ard\n",
            "\n",
            "\n",
            "This is the Hangman Word: k_y__ard Enter your guess: \n",
            "x\n",
            "  _____\n",
            " |     |\n",
            " |     |\n",
            " |     \n",
            " |     \n",
            " |     \n",
            " |     \n",
            "_|___  \n",
            "\n",
            "Wrong guess. 3 guesses remaining\n",
            "\n",
            "\n",
            "This is the Hangman Word: k_y__ard Enter your guess: \n",
            "e\n",
            "key__ard\n",
            "\n",
            "\n",
            "This is the Hangman Word: key__ard Enter your guess: \n",
            "o\n",
            "key_oard\n",
            "\n",
            "\n",
            "This is the Hangman Word: key_oard Enter your guess: \n",
            "b\n",
            "keyboard\n",
            "\n",
            "Congrats! You have guessed the word correctly!\n",
            "\n",
            " Do you want to play again? (y = yes, n = no)\n",
            "n\n",
            "Congrats! You have guessed the word correctly!\n",
            "\n",
            " Do you want to play again? (y = yes, n = no)\n",
            "n\n"
          ]
        }
      ]
    },
    {
      "cell_type": "code",
      "source": [],
      "metadata": {
        "id": "N6cpA5FRrAwu"
      },
      "execution_count": null,
      "outputs": []
    }
  ]
}